{
 "cells": [
  {
   "cell_type": "code",
   "execution_count": null,
   "metadata": {
    "collapsed": true
   },
   "outputs": [],
   "source": [
    "import holoviews as hv\n",
    "import numpy as np\n",
    "import pandas as pd\n",
    "hv.extension(case_sensitive_completion=True)\n",
    "hv.extension('bokeh')\n",
    "from readout_ep_output import walk_ep_dirs_old, extract_data_from_ep_dirs"
   ]
  },
  {
   "cell_type": "code",
   "execution_count": null,
   "metadata": {
    "collapsed": true
   },
   "outputs": [],
   "source": [
    "directory = r'X:\\David\\THY_1_GCaMP_BEFOREAFTER_TAC_290517\\results'\n",
    "list_of_wanted = ['C_df']\n",
    "df = extract_data_from_ep_dirs(directory=directory, file_end=r\"*compiled.mat\",\n",
    "                                   list_of_wanted=list_of_wanted)\n",
    "df.head()"
   ]
  },
  {
   "cell_type": "code",
   "execution_count": null,
   "metadata": {
    "collapsed": true
   },
   "outputs": [],
   "source": [
    "%%opts Curve [width=500 height=400 tools=['hover']]\n",
    "\n",
    "ids = np.unique(df.index.get_level_values('animalID'))\n",
    "conds = np.unique(df.index.get_level_values('conditionID'))\n",
    "days = np.unique(df.index.get_level_values('daysAfterBaseline'))\n",
    "\n",
    "gridspace = hv.GridSpace(kdims=['Day', 'Condition'], group='Individual Mice', label='Calcium Traces')\n",
    "\n",
    "for day in days:\n",
    "    for cond in conds:\n",
    "        holomap = hv.HoloMap(kdims=['Mouse ID'])\n",
    "        for mid in ids:\n",
    "            cur_data = df.xs(key=[mid, cond, day], level=[1, 2, 3])\n",
    "            if cur_data.shape[0] > 0:\n",
    "                traces = {idx: hv.Curve((np.arange(5400), np.transpose(row[1]))).opts(style={'alpha': 0.5})\n",
    "                          for idx, row in enumerate(cur_data.itertuples())}\n",
    "                means = hv.Curve((np.arange(5400), cur_data.loc[:, 'C_df'].mean(axis=0)), \n",
    "                                 group='Traces', label='Mean Trace').opts(style={'color': 'black'})\n",
    "                ndoverlay = hv.NdOverlay(traces, kdims=['Neuron Number']).relabel(group='Traces', label='Raw_Traces', depth=1)\n",
    "                overlay = ndoverlay * means\n",
    "                holomap[mid] = overlay\n",
    "            if mid in holomap.keys():\n",
    "                gridspace[day, cond] = holomap\n",
    "gridspace"
   ]
  },
  {
   "cell_type": "code",
   "execution_count": null,
   "metadata": {
    "collapsed": true
   },
   "outputs": [],
   "source": [
    "gb = df.groupby(level='conditionID', axis=0)\n",
    "vals = {}\n",
    "for name, group in gb:\n",
    "    vals[name] = np.mean(group.values, axis=0)[0]\n",
    "    \n",
    "x_data = np.arange(vals['HYPO'].shape[0])\n",
    "df_avg = pd.DataFrame(vals)\n",
    "df_avg['time'] = x_data\n",
    "df_avg.head()"
   ]
  },
  {
   "cell_type": "code",
   "execution_count": null,
   "metadata": {
    "collapsed": true
   },
   "outputs": [],
   "source": [
    "%%opts Curve [width=1200 height=400 tools=['hover']]\n",
    "\n",
    "kdims = ['time']\n",
    "vdims = ['C_df']\n",
    "c = hv.Curve((df_avg['time'], df_avg['HYPER']), label='Average Hyper', group='All Mice', kdims=kdims, vdims=vdims) *\\\n",
    "    hv.Curve((df_avg['time'], df_avg['HYPO']), label='Average Hypo', group='All Mice', kdims=kdims, vdims=vdims)\n",
    "c"
   ]
  }
 ],
 "metadata": {
  "kernelspec": {
   "display_name": "Python 3",
   "language": "python",
   "name": "python3"
  },
  "language_info": {
   "codemirror_mode": {
    "name": "ipython",
    "version": 3
   },
   "file_extension": ".py",
   "mimetype": "text/x-python",
   "name": "python",
   "nbconvert_exporter": "python",
   "pygments_lexer": "ipython3",
   "version": "3.6.2"
  }
 },
 "nbformat": 4,
 "nbformat_minor": 2
}
